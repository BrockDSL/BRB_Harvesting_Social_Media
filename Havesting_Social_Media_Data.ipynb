{
  "nbformat": 4,
  "nbformat_minor": 0,
  "metadata": {
    "colab": {
      "name": "Havesting Social Media Data",
      "provenance": [],
      "collapsed_sections": [],
      "authorship_tag": "ABX9TyP0mboURtE/uLIByDpUc31P",
      "include_colab_link": true
    },
    "kernelspec": {
      "name": "python3",
      "display_name": "Python 3"
    },
    "language_info": {
      "name": "python"
    }
  },
  "cells": [
    {
      "cell_type": "markdown",
      "metadata": {
        "id": "view-in-github",
        "colab_type": "text"
      },
      "source": [
        "<a href=\"https://colab.research.google.com/github/BrockDSL/BRB_Harvesting_Social_Media/blob/main/Havesting_Social_Media_Data.ipynb\" target=\"_parent\"><img src=\"https://colab.research.google.com/assets/colab-badge.svg\" alt=\"Open In Colab\"/></a>"
      ]
    },
    {
      "cell_type": "markdown",
      "source": [
        "![dsl_logo.png](https://raw.githubusercontent.com/BrockDSL/BRB_Harvesting_Social_Media/main/dsl_logo.png)\n",
        "\n",
        "# Harvesting Social Media Data\n",
        "## Buidling Better Research Workshop Series\n",
        "\n",
        "This workshop will introduce you to the basics of the what/how of harvesting social media information.\n",
        "\n",
        "\n",
        "## How this notebook works\n",
        "\n",
        "This webpage is a Google Colab notebook and is comprised of different *cells*. Some are code cells that run Python snippets. To works through these cells simply click on the triangle _run_ button in each cell.\n",
        "\n",
        "## Save a copy \n",
        "\n",
        "To save a copy of this notebook so you can return to it later please go to **File > Save Copy in Drive**"
      ],
      "metadata": {
        "id": "m7_NrVpVjoN8"
      }
    },
    {
      "cell_type": "code",
      "source": [
        "# This code cell will load up all the required pieces to run our notebook.\n",
        "# Once you click into this cell you'll see a triangle 'play' button appear\n",
        "# Click on that to start your session\n",
        "\n",
        "import pandas as pd\n",
        "import matplotlib.pyplot as plt\n",
        "%matplotlib inline\n",
        "pd.set_option('display.max_columns', None)\n",
        "\n",
        "print(\"Ready to proceed!\")"
      ],
      "metadata": {
        "id": "0gaZdVBJlQnZ"
      },
      "execution_count": null,
      "outputs": []
    },
    {
      "cell_type": "markdown",
      "source": [
        "## Twitter Information via the API\n",
        "\n",
        "Like we discussed during our introductory talk we can make use of an application program interface (API) to ask for data generated on Twitter.\n",
        "\n",
        "**Our Dataset**: I searched for \"_COVID_\" on Twitter on January 10, 2022 and harvested for 3 seconds worth of information. We are going to take a look at all of the information that we have.\n"
      ],
      "metadata": {
        "id": "LNZsGSbXkMgs"
      }
    },
    {
      "cell_type": "markdown",
      "source": [
        "## Loading the Data\n",
        "\n",
        "The API returns data in a format called _JSON_. The exact details of this type of file are a pretty extensive but for us, the best way to think of it is to think of it as a very fancy _CSV_ file. We are going to use a python data analysis tool called [Pandas](https://pandas.pydata.org/docs/user_guide/10min.html)"
      ],
      "metadata": {
        "id": "KamhcmwFlDMZ"
      }
    },
    {
      "cell_type": "code",
      "source": [
        "twitter_data = pd.read_json(\"https://raw.githubusercontent.com/BrockDSL/BRB_Harvesting_Social_Media/main/covid.json\",lines=True)\n",
        "print(\"Data Loaded!\")"
      ],
      "metadata": {
        "id": "A436cEbpmK5f"
      },
      "execution_count": null,
      "outputs": []
    },
    {
      "cell_type": "markdown",
      "source": [
        "## How many records?\n",
        "\n",
        "How many records did our 10 seconds of harvesting produce?\n",
        "\n",
        "\n",
        "## Question 1: ## \n",
        "How many records you do you think are in the dataset?"
      ],
      "metadata": {
        "id": "c9iOrywZmLwJ"
      }
    },
    {
      "cell_type": "code",
      "source": [
        "len(twitter_data)"
      ],
      "metadata": {
        "id": "4HD68elWmSGj"
      },
      "execution_count": null,
      "outputs": []
    },
    {
      "cell_type": "markdown",
      "source": [
        "## What does a record look like?\n",
        "\n",
        "Let's look at a random entry to see what data fields are associated with it. We will do this by randomly **sampling** one record.\n",
        "\n",
        "\n",
        "## Question 2: ## \n",
        "How many data fields do you thing are included in one tweet?"
      ],
      "metadata": {
        "id": "8ah7l52TmSsf"
      }
    },
    {
      "cell_type": "code",
      "source": [
        "random_entry = twitter_data.sample(1)\n",
        "random_entry"
      ],
      "metadata": {
        "id": "nHWnBa0Umz-R"
      },
      "execution_count": null,
      "outputs": []
    },
    {
      "cell_type": "markdown",
      "source": [
        "## Question 3:\n",
        "\n",
        "What types of questions can you ask and answer with this type of data?"
      ],
      "metadata": {
        "id": "0uwDaZlwykGh"
      }
    },
    {
      "cell_type": "markdown",
      "source": [
        "\n",
        "---\n",
        "\n",
        "## Tweet Metrics\n",
        "\n",
        "Let's look at some very specific Twitter information from these list of tweets."
      ],
      "metadata": {
        "id": "8R0hsiump5Wi"
      }
    },
    {
      "cell_type": "markdown",
      "source": [
        "## Retweets\n",
        "\n",
        "\n",
        "\n",
        "## Question 4: ## \n",
        "What do you think is the top number of retweets?"
      ],
      "metadata": {
        "id": "tlhEVLCLqC9F"
      }
    },
    {
      "cell_type": "code",
      "source": [
        "most_retweets = twitter_data[\"retweet_count\"].max()\n",
        "most_retweets"
      ],
      "metadata": {
        "id": "Xko0mzjyqL2G"
      },
      "execution_count": null,
      "outputs": []
    },
    {
      "cell_type": "markdown",
      "source": [
        "Let's see this popular tweet"
      ],
      "metadata": {
        "id": "b5XRgX7vtc7M"
      }
    },
    {
      "cell_type": "code",
      "source": [
        "twitter_data[twitter_data[\"retweet_count\"] == twitter_data[\"retweet_count\"].max()]"
      ],
      "metadata": {
        "id": "dKSOTwdfsdni"
      },
      "execution_count": null,
      "outputs": []
    },
    {
      "cell_type": "markdown",
      "source": [
        "## Favourites\n",
        "\n",
        "\n",
        "\n",
        "## Question: 5## \n",
        "What do you think is the top number of favourites in this list of tweets?"
      ],
      "metadata": {
        "id": "WLVBzEvmqMBP"
      }
    },
    {
      "cell_type": "code",
      "source": [
        "most_favorite_count = twitter_data[\"favorite_count\"].max()\n",
        "most_favorite_count"
      ],
      "metadata": {
        "id": "Iqbgam9tqTOo"
      },
      "execution_count": null,
      "outputs": []
    },
    {
      "cell_type": "markdown",
      "source": [
        "Let's see this popular tweet"
      ],
      "metadata": {
        "id": "O-VtNFkHuiKi"
      }
    },
    {
      "cell_type": "code",
      "source": [
        "twitter_data[twitter_data[\"favorite_count\"] == twitter_data[\"favorite_count\"].max()]"
      ],
      "metadata": {
        "id": "FbjN5iLqulbY"
      },
      "execution_count": null,
      "outputs": []
    },
    {
      "cell_type": "markdown",
      "source": [
        "\n",
        "\n",
        "---\n",
        "\n",
        "## Whole Dataset Analysis\n",
        "\n",
        "Let's take a look at some characteristics of the whole body of tweets."
      ],
      "metadata": {
        "id": "M56wjHLHwjVE"
      }
    },
    {
      "cell_type": "markdown",
      "source": [
        "## Languages\n",
        "\n",
        "## Question: 6 ##\n",
        "\n",
        "Besides _English_ what do you think the top language in the dataset is?\n",
        "\n",
        "\n",
        "Let's create a pie graph of the languages in the dataset so we visualize it."
      ],
      "metadata": {
        "id": "Vw9alELVwtMR"
      }
    },
    {
      "cell_type": "code",
      "source": [
        "#The language is one of the columns in the dataset, it is called _metadata_\n",
        "#Let's look at a random tweet from earlier and see what language it is.\n",
        "\n",
        "#Grab the metadata column contents\n",
        "tweet_metadata = random_entry[\"metadata\"]\n",
        "\n",
        "#Print all the metadata items for this tweet\n",
        "for tw in tweet_metadata:\n",
        "  print(tw)\n"
      ],
      "metadata": {
        "id": "KEMgINjpR_WH"
      },
      "execution_count": null,
      "outputs": []
    },
    {
      "cell_type": "code",
      "source": [
        "language_count = dict()\n",
        "\n",
        "# Go through each row of the data and see what two letter language code\n",
        "# is in the iso_language_code metadata field\n",
        "\n",
        "for row in twitter_data.itertuples(index=False):\n",
        "  language_entry = row.metadata['iso_language_code']\n",
        "  #Create a lookup 'dictionary' of codes\n",
        "  if language_entry in language_count:\n",
        "    language_count[language_entry] += 1\n",
        "  else:\n",
        "    language_count[language_entry] = 1\n",
        "    \n",
        "\n",
        "plt.pie(list(language_count.values()),labels=list(language_count.keys()))\n",
        "plt.title(\"Languages in the Tweets\")\n",
        "plt.show()\n"
      ],
      "metadata": {
        "id": "YE0IU9gew2bg"
      },
      "execution_count": null,
      "outputs": []
    },
    {
      "cell_type": "code",
      "source": [
        "#Numerical language data b/c those wedges of pie are getting small\n",
        "language_count"
      ],
      "metadata": {
        "id": "KoorcTQE5F9_"
      },
      "execution_count": null,
      "outputs": []
    },
    {
      "cell_type": "markdown",
      "source": [
        "## Searching\n",
        "\n",
        "You can search in the full-text of tweets to see if words show up. Try searching for _covid deaths_. \n",
        "\n",
        "## Question: 7 ##\n",
        "\n",
        "What interesting things can you find from searching in the tweet? (Run the next cell and click the _Magic Wand_ to load up the interactive data viewer)"
      ],
      "metadata": {
        "id": "A_Kl_SoWw3CH"
      }
    },
    {
      "cell_type": "code",
      "source": [
        "#Run this cell then click on the 'Magic Wand' icon\n",
        "ft_twitter_data = twitter_data.filter(['full_text'],axis = 1)\n",
        "ft_twitter_data"
      ],
      "metadata": {
        "id": "FHc6rwiixB3m"
      },
      "execution_count": null,
      "outputs": []
    },
    {
      "cell_type": "markdown",
      "source": [
        "\n",
        "\n",
        "---\n",
        "\n",
        "## Conclusion\n",
        "\n",
        "When analyzing social media data you often get lets of metadata in addition to the full-text of the posts you have indentified. This extra data can be analyzed in many different ways.\n",
        "\n",
        "If you're interested in exploring social media data for a research project or class please contact: **dsl @ brocku.ca** or checkout our the [DSL webpage](https://brocku.ca/library/dsl) for more details on how the Digital Scholarship Lab can help your research.\n"
      ],
      "metadata": {
        "id": "Gc6IRHc1xCpX"
      }
    }
  ]
}